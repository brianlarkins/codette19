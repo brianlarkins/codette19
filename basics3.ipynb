{
 "cells": [
  {
   "cell_type": "markdown",
   "metadata": {},
   "source": [
    "# Module 3: Working with data - Dictionaries and Tuples\n",
    "\n",
    "\n",
    "\n",
    "In this lesson, we will learn how to use Python to work with information stored in files. Solving the world's problems requires having the right information at hand to make decisions. In our camp we will use data (information) that has been collected by other people and stored in special files that we can use.\n",
    "\n",
    "Before we dive into data files, we need to understand a little bit about how Python can help use use and understand information. One of the ways to do this is to use the lists that we covered in Module 1 -- Another is to use *tuples* to group things and *dictionaries* to relate information together.\n",
    "\n",
    "Let's start by looking at an example problem. Imagine we have health information collected from several people and are trying to understand the relationships between smoking and cancer. Let's say we have the following data:\n",
    "\n",
    "| Name    | Age | Location  | Smoker? | Has Cancer? |\n",
    "|---------|-----|-----------|:-------:|:-----------:|\n",
    "| Alice   | 50  | Tennessee |    Y    |      Y      |\n",
    "| Bob     | 55  | Arkansas  |    N    |      Y      |\n",
    "| Charlie | 33  | Tennessee |    Y    |      N      |\n",
    "\n",
    "\n",
    "How do we use this data in Python? There isn't an obvious way with the tools we have to do this, but we *could* make do. Check out this approach:\n",
    "\n",
    "## The hard way."
   ]
  },
  {
   "cell_type": "code",
   "execution_count": 1,
   "metadata": {},
   "outputs": [],
   "source": [
    "names     = [ \"Alice\", \"Bob\", \"Charlie\" ]\n",
    "ages      = [ 50, 55, 33 ]\n",
    "locations = [ \"Tennessee\", \"Arkansas\", \"Tennessee\" ]\n",
    "smokes    = [ True, False, True ]\n",
    "cancer    = [ True, True, False ]"
   ]
  },
  {
   "cell_type": "markdown",
   "metadata": {},
   "source": [
    "We created *five* lists, one for each column of the table. Let's see how we can work with this data. Let's try to print the people in our table that are smokers. We'll need to use the `range` and `len` functions and a loop."
   ]
  },
  {
   "cell_type": "code",
   "execution_count": 2,
   "metadata": {},
   "outputs": [
    {
     "name": "stdout",
     "output_type": "stream",
     "text": [
      "Alice\n",
      "Charlie\n"
     ]
    }
   ],
   "source": [
    "for index in range(len(smokes)):\n",
    "    if (smokes[index] == True):\n",
    "        print(names[index])\n"
   ]
  },
  {
   "cell_type": "markdown",
   "metadata": {},
   "source": [
    "Let's try to unpack all of this. First let's look at `len(smokes)`. This should give us back the number 3, since there are three entries in the `smokes[]` list."
   ]
  },
  {
   "cell_type": "code",
   "execution_count": 3,
   "metadata": {},
   "outputs": [
    {
     "data": {
      "text/plain": [
       "3"
      ]
     },
     "execution_count": 3,
     "metadata": {},
     "output_type": "execute_result"
    }
   ],
   "source": [
    "len(smokes)"
   ]
  },
  {
   "cell_type": "markdown",
   "metadata": {},
   "source": [
    "When we pass in the number 3 to range, this creates a list of numbers: 0, 1, 2. There are three numbers, starting at zero. For a list with 3 elements, the last element in the list will be element 2. (This is why `range` stops one less than the number we provide). So let's take a look at our loop structure now:"
   ]
  },
  {
   "cell_type": "code",
   "execution_count": 4,
   "metadata": {},
   "outputs": [
    {
     "name": "stdout",
     "output_type": "stream",
     "text": [
      "0\n",
      "1\n",
      "2\n"
     ]
    }
   ],
   "source": [
    "for index in range(len(smokes)):\n",
    "    print(index)"
   ]
  },
  {
   "cell_type": "markdown",
   "metadata": {},
   "source": [
    "When we use `smokes[index]` we are looking at that element in the list. Let's change our loop to look at the values explicitly:"
   ]
  },
  {
   "cell_type": "code",
   "execution_count": 5,
   "metadata": {},
   "outputs": [
    {
     "name": "stdout",
     "output_type": "stream",
     "text": [
      "True\n",
      "False\n",
      "True\n"
     ]
    }
   ],
   "source": [
    "for index in range(len(smokes)):\n",
    "    print(smokes[index])"
   ]
  },
  {
   "cell_type": "markdown",
   "metadata": {},
   "source": [
    "Now, we can use an `if` statement the current value (index) in the list is true or not. If it is true, then the person is a smoker. \n",
    "\n",
    "The first elements of all five lists correspond to Alice, the second elements go with Bob, etc.\n",
    "\n",
    "So, if the first and third elements of `smokes[]` are true, that means that Alice and Charlie are the smokers. We can use the same index values 0 and 2 (for the first and third list items) to get their names from the `names[]` list.\n",
    "\n",
    "We could change this just a little bit to get a count of the number of smokers in our data set. Notice here we're changing the if statement just a little, since the things in the `smokes[]` list are true or false. We can skip the `== True` part."
   ]
  },
  {
   "cell_type": "code",
   "execution_count": 6,
   "metadata": {},
   "outputs": [
    {
     "name": "stdout",
     "output_type": "stream",
     "text": [
      "The number of smokers is 2\n"
     ]
    }
   ],
   "source": [
    "count = 0\n",
    "for index in range(len(smokes)):\n",
    "    if (smokes[index]):\n",
    "        count = count + 1\n",
    "print(\"The number of smokers is\",count)"
   ]
  },
  {
   "cell_type": "markdown",
   "metadata": {},
   "source": [
    "## The easier way -- Using tuples.\n",
    "\n",
    "Keeping track of multiple lists is tricky and can be complicated if we have a lot of data to work with. To help us keep things simple, we can use two other features in Python. \n",
    "\n",
    "The first feature is called a *tuple*, and is used to group related information together. We can create a tuple  variable for Alice like this:"
   ]
  },
  {
   "cell_type": "code",
   "execution_count": 7,
   "metadata": {},
   "outputs": [],
   "source": [
    "aTuple = (\"Alice\", 50, \"Tennessee\", True, True)"
   ]
  },
  {
   "cell_type": "markdown",
   "metadata": {},
   "source": [
    "We can access a part of the tuple much like a list. Starting from 0, we can pick the parts of the tuple we want."
   ]
  },
  {
   "cell_type": "code",
   "execution_count": 8,
   "metadata": {},
   "outputs": [
    {
     "name": "stdout",
     "output_type": "stream",
     "text": [
      "Alice is 50 years old and is from Tennessee\n"
     ]
    }
   ],
   "source": [
    "print(aTuple[0], \"is\", aTuple[1], \"years old and is from\", aTuple[2])"
   ]
  },
  {
   "cell_type": "markdown",
   "metadata": {},
   "source": [
    "We can also take a tuple and break it back out into its component parts:"
   ]
  },
  {
   "cell_type": "code",
   "execution_count": 9,
   "metadata": {},
   "outputs": [
    {
     "name": "stdout",
     "output_type": "stream",
     "text": [
      "Alice is 50 years old and is from Tennessee\n"
     ]
    }
   ],
   "source": [
    "(name, age, loc, smokes, cancer) = aTuple\n",
    "print (name, \"is\", age, \"years old and is from\", loc)"
   ]
  },
  {
   "cell_type": "markdown",
   "metadata": {},
   "source": [
    "With tuples, we can store an entire row of our initial data table in a single variable. We *could* make a big list of tuples and work with that. Let's try it and see how we it would look to print out the names of all of the smokers. First we have to create our data structure. Normally we can get this data from a file and we won't have to type in ourselves."
   ]
  },
  {
   "cell_type": "code",
   "execution_count": 10,
   "metadata": {},
   "outputs": [
    {
     "name": "stdout",
     "output_type": "stream",
     "text": [
      "[('Alice', 50, 'Tennessee', True, True), ('Bob', 55, 'Arkansas', False, True), ('Charlie', 33, 'Tennessee', True, False)]\n"
     ]
    }
   ],
   "source": [
    "people_list = [ (\"Alice\", 50, \"Tennessee\", True, True), (\"Bob\", 55, \"Arkansas\", False, True), (\"Charlie\", 33, \"Tennessee\", True, False) ]\n",
    "print(people_list)"
   ]
  },
  {
   "cell_type": "markdown",
   "metadata": {},
   "source": [
    "Now let's write a little bit of Python to print the names of the smokers:"
   ]
  },
  {
   "cell_type": "code",
   "execution_count": 11,
   "metadata": {},
   "outputs": [
    {
     "name": "stdout",
     "output_type": "stream",
     "text": [
      "Alice\n",
      "Charlie\n"
     ]
    }
   ],
   "source": [
    "for tup in people_list:    # for every tuple in the list\n",
    "    if tup[3]:             # if the fourth field in the tuple (smokes) is true\n",
    "        print(tup[0])"
   ]
  },
  {
   "cell_type": "markdown",
   "metadata": {},
   "source": [
    "Not bad, eh? We can even make it a little easier to read, by combining the things we've learned. Instead of setting `tup` to be the whole tuple, let's break it out into parts:"
   ]
  },
  {
   "cell_type": "code",
   "execution_count": 12,
   "metadata": {},
   "outputs": [
    {
     "name": "stdout",
     "output_type": "stream",
     "text": [
      "Alice\n",
      "Charlie\n"
     ]
    }
   ],
   "source": [
    "for (name, age, loc, smokes, cancer) in people_list:\n",
    "    if smokes:\n",
    "        print(name)"
   ]
  },
  {
   "cell_type": "markdown",
   "metadata": {},
   "source": [
    "# Dictionaries\n",
    "\n",
    "The last big Python feature we'll look at before we start working on some real data sets is the *dictionary*. A dictionary that you might use for school is a collection of words and their definitions. \n",
    "\n",
    "In Python, dictionaries do a very similar thing, but we don't have to limit ourselves to words and definitions. A dictionary contains a set of *keys* and each key is matched to a *value*. In a regular dictionary, the word we're looking up is the key, and the definition is the value. Let's see how this works by using a Python dictionary as a regular dictionary. There are a couple of ways to do it."
   ]
  },
  {
   "cell_type": "code",
   "execution_count": null,
   "metadata": {},
   "outputs": [],
   "source": [
    "dictionary = {}      # create an empty dictionary\n",
    "dictionary['duck'] = \"A waterbird with a broad blunt bill, short legs, webbed feed, and a waddling gait.\"\n",
    "\n",
    "print(\"The definition of duck is: '\", dictionary['duck'],\"'\")"
   ]
  },
  {
   "cell_type": "markdown",
   "metadata": {},
   "source": [
    "We can also create a dictionary with multiple entries at once. We just need to provide both the key and value for each entry in the dictionary."
   ]
  },
  {
   "cell_type": "code",
   "execution_count": null,
   "metadata": {},
   "outputs": [],
   "source": [
    "mascots = { 'Rhodes' : 'Lynx', 'Memphis' : 'Tigers', 'CBU' : 'Buccaneers' }\n",
    "\n",
    "print(\"The mascot for Memphis is the\", mascots['Memphis'])"
   ]
  },
  {
   "cell_type": "markdown",
   "metadata": {},
   "source": [
    "One of the best things about dictionaries is that you can find things in them with a name, instead of having to remember the place number that we have to use with tuples and lists."
   ]
  },
  {
   "cell_type": "code",
   "execution_count": null,
   "metadata": {},
   "outputs": [],
   "source": [
    "mascotList = [ 'Lynx', 'Tigers', 'Buccaneers' ]\n",
    "\n",
    "print(\"The mascot for Memphis is the\", mascotList[1])"
   ]
  },
  {
   "cell_type": "markdown",
   "metadata": {},
   "source": [
    "Same result, but with a dictionary, we can refer the Tigers as the Memphis mascot, but with a list we have to remember that Memphis is the second entry in the list (index 1).\n",
    "\n",
    "Finally, let's go back to our original data table and create it with a dictionary of tuples, instead of a list of tuples."
   ]
  },
  {
   "cell_type": "code",
   "execution_count": null,
   "metadata": {},
   "outputs": [],
   "source": [
    "people_dict = { \"Alice\" : (50, \"Tennessee\", True, True), \n",
    "                \"Bob\" : (55, \"Arkansas\", False, True), \n",
    "                \"Charlie\" : (33, \"Tennessee\", True, False) \n",
    "              }\n",
    "\n",
    "print(people_dict['Bob'])"
   ]
  },
  {
   "cell_type": "markdown",
   "metadata": {},
   "source": [
    "To loop over a dictionary, we need a new helper `keys()` which gives us all the keys in the dictionary:"
   ]
  },
  {
   "cell_type": "code",
   "execution_count": null,
   "metadata": {},
   "outputs": [],
   "source": [
    "people_dict.keys()"
   ]
  },
  {
   "cell_type": "markdown",
   "metadata": {},
   "source": [
    "Now we can use this in a loop to go over all of the keys (names) in the dictionary."
   ]
  },
  {
   "cell_type": "code",
   "execution_count": null,
   "metadata": {},
   "outputs": [],
   "source": [
    "for person in people_dict.keys():\n",
    "    print(person, \"is\", people_dict[person][0], \"years old\") # the zero is the first part of the tuple, the agea"
   ]
  },
  {
   "cell_type": "markdown",
   "metadata": {},
   "source": [
    "If we wanted to print out all of the smokers just like our list/tuple example, it would look like this:"
   ]
  },
  {
   "cell_type": "code",
   "execution_count": null,
   "metadata": {},
   "outputs": [],
   "source": [
    "for person in people_dict.keys():\n",
    "    (age, loc, smokes, cancer) = people_dict[person]  # break out the tuple into parts\n",
    "    if smokes:                                        # if the current person smokes\n",
    "        print(person)                                 #   print out their name"
   ]
  },
  {
   "cell_type": "markdown",
   "metadata": {},
   "source": [
    "## Congrats! You are a Python Master!"
   ]
  }
 ],
 "metadata": {
  "kernelspec": {
   "display_name": "Python 3",
   "language": "python",
   "name": "python3"
  },
  "language_info": {
   "codemirror_mode": {
    "name": "ipython",
    "version": 3
   },
   "file_extension": ".py",
   "mimetype": "text/x-python",
   "name": "python",
   "nbconvert_exporter": "python",
   "pygments_lexer": "ipython3",
   "version": "3.7.3"
  }
 },
 "nbformat": 4,
 "nbformat_minor": 2
}
