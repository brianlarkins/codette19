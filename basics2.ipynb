{
 "cells": [
  {
   "cell_type": "markdown",
   "metadata": {},
   "source": [
    "# Module 2: More Python Basics\n",
    "\n",
    "In this lesson, we will learn a few new tricks about using Python. The big things we will look at are how to make choices in Python, and how to make it easier to repeat actions that we do frequently."
   ]
  },
  {
   "cell_type": "markdown",
   "metadata": {},
   "source": [
    "# Making Choices\n",
    "\n",
    "Python has an *if* statement that helps us do something if a condition is true, otherwise we don't do it. For example, if we get 60% or higher on a test, we get a passing grade, otherwise we get a failing grade. We can program this with an `if` statement:"
   ]
  },
  {
   "cell_type": "code",
   "execution_count": null,
   "metadata": {},
   "outputs": [],
   "source": [
    "grade = 95\n",
    "passing = False\n",
    "if (grade >= 60):\n",
    "    passing = True\n",
    "print(passing)"
   ]
  },
  {
   "cell_type": "markdown",
   "metadata": {},
   "source": [
    "If we make the grade a lower value, we get a different answer:"
   ]
  },
  {
   "cell_type": "code",
   "execution_count": null,
   "metadata": {},
   "outputs": [],
   "source": [
    "grade = 35\n",
    "passing = False\n",
    "if (grade >= 60):\n",
    "    passing = True\n",
    "print(passing)"
   ]
  },
  {
   "cell_type": "markdown",
   "metadata": {},
   "source": [
    "There is a bit going on here. So lets look closely and see what all the code is doing. First, we set the grade on the test as a regular variable like we learned in the last lesson.\n",
    "\n",
    "Next, we make a new variable `passing` and set it to `False`. This type of value is called a *boolean* value and can only be either `True` or `False`. We need to make `passing` false by default, since we will only change it if the grade is high enough.\n",
    "\n",
    "Let's take a look at the `if` statement. After the `if` keyword, we put an expression in parentheses that must be either true or false. In our example, we test whether the value in the `grade` variable is greater than or equal to (`>=`) our minimum passing grade of 60. If it is, we change `passing` to true.\n",
    "\n",
    "An `if` statement must always end with a `:` after the condition. Everything we want to do if the condition is true **must be indented**. Python can be very picky about this. When you want code to be executed outside the `if`, you stop indenting your code.\n",
    "\n",
    "### You give it a try.\n",
    "\n",
    "How about another example, set the `myage` variable with your age:"
   ]
  },
  {
   "cell_type": "code",
   "execution_count": null,
   "metadata": {},
   "outputs": [],
   "source": [
    "myage = 5"
   ]
  },
  {
   "cell_type": "markdown",
   "metadata": {},
   "source": [
    "Now, let's see if you are a teenager:"
   ]
  },
  {
   "cell_type": "code",
   "execution_count": null,
   "metadata": {},
   "outputs": [],
   "source": [
    "if (myage > 12):\n",
    "    print(\"you are a teenager!\")\n",
    "else:\n",
    "    print(\"you are not a teenager!\")"
   ]
  },
  {
   "cell_type": "markdown",
   "metadata": {},
   "source": [
    "Notice how we used a new keyword `else:` to pick between two alternative choices.\n",
    "\n",
    "This isn't quite right though. What happens if you go back up and make `myage = 40` and re-run the if statement? Most 40-year olds are not teenagers. So, we should probably try to fix this up. Try changing `myage` and see what happens with the following block:"
   ]
  },
  {
   "cell_type": "code",
   "execution_count": 1,
   "metadata": {},
   "outputs": [
    {
     "name": "stdout",
     "output_type": "stream",
     "text": [
      "you are an old person.\n"
     ]
    }
   ],
   "source": [
    "myage = 40\n",
    "if (myage < 13):\n",
    "    print(\"you are not a teenager!\")\n",
    "elif ((myage >= 13) and (myage <=19)):\n",
    "    print(\"you are a teenager!\")\n",
    "else:\n",
    "    print(\"you are an old person.\")"
   ]
  },
  {
   "cell_type": "markdown",
   "metadata": {},
   "source": [
    "Notice that we used `elif` to add extra choices to our if statement. Each choice must end with a \"`:`\". We also used the `and` word to make sure that teenagers are 13 or older **and** less than 19 years old.\n",
    "\n",
    "You have already seen the less-than/greater-than operators (<, >, <=, >=). We can check to see if two values are the same with a double equals (x == y), or to make sure they are different with  not equals (x != y).\n",
    "\n",
    "### You give it a try.\n",
    "\n",
    "\n",
    "Try to make an if statement that prints out your letter grade depending on your score. 90+ is an A, 80-89 is a B, 70-79 is a C, 60-69 is a D, and less than 60 is an F."
   ]
  },
  {
   "cell_type": "code",
   "execution_count": null,
   "metadata": {},
   "outputs": [],
   "source": [
    "score = 80"
   ]
  },
  {
   "cell_type": "markdown",
   "metadata": {},
   "source": [
    "# Repeating things\n",
    "\n",
    "Sometimes we need to do the same thing over and over again and just don't want to type it out every time. We can use *loops* to repeat an action multiple times. This is often handy with information in lists. Let's start with a simple list:"
   ]
  },
  {
   "cell_type": "code",
   "execution_count": 2,
   "metadata": {},
   "outputs": [],
   "source": [
    "alist = [ 10, 20, 30, 40, 50, 60, 70, 80, 90 ]"
   ]
  },
  {
   "cell_type": "markdown",
   "metadata": {},
   "source": [
    "If we want to print out the contents of the list, we can just use a print statement:"
   ]
  },
  {
   "cell_type": "code",
   "execution_count": 3,
   "metadata": {},
   "outputs": [
    {
     "name": "stdout",
     "output_type": "stream",
     "text": [
      "[10, 20, 30, 40, 50, 60, 70, 80, 90]\n"
     ]
    }
   ],
   "source": [
    "print(alist)"
   ]
  },
  {
   "cell_type": "markdown",
   "metadata": {},
   "source": [
    "We can use the `len()` function to let us know how long a list is:"
   ]
  },
  {
   "cell_type": "code",
   "execution_count": 4,
   "metadata": {},
   "outputs": [
    {
     "name": "stdout",
     "output_type": "stream",
     "text": [
      "9\n"
     ]
    }
   ],
   "source": [
    "print(len(alist))"
   ]
  },
  {
   "cell_type": "markdown",
   "metadata": {},
   "source": [
    "What if we print out each value in the list doubled? Our `print()` won't help us. We need to do the work ourselves and we can use a loop to make it simple:"
   ]
  },
  {
   "cell_type": "code",
   "execution_count": 5,
   "metadata": {},
   "outputs": [
    {
     "name": "stdout",
     "output_type": "stream",
     "text": [
      "20\n",
      "40\n",
      "60\n",
      "80\n",
      "100\n",
      "120\n",
      "140\n",
      "160\n",
      "180\n"
     ]
    }
   ],
   "source": [
    "for item in alist:\n",
    "    print(2 * item)"
   ]
  },
  {
   "cell_type": "markdown",
   "metadata": {},
   "source": [
    "If we want to make the print output the same as before, we need to do a little more work. We can set some special features that print the commas and spaces, and put everything on the same line:"
   ]
  },
  {
   "cell_type": "code",
   "execution_count": 6,
   "metadata": {},
   "outputs": [
    {
     "name": "stdout",
     "output_type": "stream",
     "text": [
      "[ 20, 40, 60, 80, 100, 120, 140, 160, 180 ]\n"
     ]
    }
   ],
   "source": [
    "print(\"[ \", end=\"\")           # print the left bracket\n",
    "for item in alist[:-1]:\n",
    "    print(2*item, end=\", \")   # print all but the last element, separated with a ,\n",
    "print(2*alist[-1], end=\"\")    # print the last element\n",
    "print(\" ]\")                   # print the right bracket"
   ]
  },
  {
   "cell_type": "markdown",
   "metadata": {},
   "source": [
    "This can be a little tricky to understand, but you've seen most of this before. The biggest trick that we are doing here is to use the `end` feature of `print()` to control what gets printed out at the end of the line. Normally `print()` goes to the next line, but if we change the `end` value, it can print nothing (stay on the same line) or a comma/space to separate the different values.\n",
    "\n",
    "### You give it a try.\n",
    "\n",
    "You should play around with this block of code until you understand how it works. Ask for help if you are confused.\n",
    "\n",
    "In the block below, write a loop that changes the values in alist so that each value is *half* of the original value."
   ]
  },
  {
   "cell_type": "code",
   "execution_count": null,
   "metadata": {},
   "outputs": [],
   "source": [
    "# example of division\n",
    "whole = 100\n",
    "half = whole / 2\n",
    "print(half)\n",
    "\n",
    "# add your for loop here."
   ]
  },
  {
   "cell_type": "markdown",
   "metadata": {},
   "source": [
    "One other thing we might want to do some times is repeat something a specific number of times. For this, we can borrow the *range* function. Let's look at an example:"
   ]
  },
  {
   "cell_type": "code",
   "execution_count": 7,
   "metadata": {},
   "outputs": [
    {
     "name": "stdout",
     "output_type": "stream",
     "text": [
      "0\n",
      "1\n",
      "2\n",
      "3\n",
      "4\n"
     ]
    }
   ],
   "source": [
    "for i in range(5):\n",
    "    print(i)"
   ]
  },
  {
   "cell_type": "markdown",
   "metadata": {},
   "source": [
    "Notice that this loop repeats 5 times and that the `i` variable contains the number of the loop cycle (we call this an *iteration*) that we are on. We can also specify a start and a stop value too. We always stop one step before the higher number. We'll see why later on in Module 3."
   ]
  },
  {
   "cell_type": "code",
   "execution_count": 8,
   "metadata": {},
   "outputs": [
    {
     "name": "stdout",
     "output_type": "stream",
     "text": [
      "5\n",
      "6\n",
      "7\n",
      "8\n"
     ]
    }
   ],
   "source": [
    "for i in range(5,9):\n",
    "    print(i)"
   ]
  },
  {
   "cell_type": "markdown",
   "metadata": {},
   "source": [
    "# Functions\n",
    "\n",
    "Functions are another way that we can repeat the same task without having to write the program code over and over again.\n",
    "\n",
    "A *function* is a block of code that takes *parameters* and returns a value. We've already seen some functions, like `print()`. We can make our own functions. Let's make a function that takes two numbers and adds them together:"
   ]
  },
  {
   "cell_type": "code",
   "execution_count": null,
   "metadata": {},
   "outputs": [],
   "source": [
    "def add_numbers(x, y):\n",
    "    return x + y"
   ]
  },
  {
   "cell_type": "markdown",
   "metadata": {},
   "source": [
    "In this block we created a new function, `add_numbers`. The *parameters* to `add_numbers` are `x` and `y`. The *return value* is made by using the `return` statement. In this example, we just add the two parameters together and return that value.\n",
    "\n",
    "When we want to use the function, we type its name and give it some parameters:"
   ]
  },
  {
   "cell_type": "code",
   "execution_count": null,
   "metadata": {},
   "outputs": [],
   "source": [
    "a = add_numbers(3,5)\n",
    "b = add_numbers(10,20)\n",
    "print(a,b)"
   ]
  },
  {
   "cell_type": "markdown",
   "metadata": {},
   "source": [
    "Remember that `+` works with strings too! This works, but is confusing. We should try not to write confusing code."
   ]
  },
  {
   "cell_type": "code",
   "execution_count": null,
   "metadata": {},
   "outputs": [],
   "source": [
    "print(add_numbers(\"hello, \", \"world!\"))"
   ]
  },
  {
   "cell_type": "markdown",
   "metadata": {},
   "source": [
    "We can make more complicated functions than this, we just have to be careful about our indenting. When we are done with our function, stop indenting. Here is a function that takes an age as a parameter and returns true if you are a teenager (and false if not)."
   ]
  },
  {
   "cell_type": "code",
   "execution_count": null,
   "metadata": {},
   "outputs": [],
   "source": [
    "def is_teenager(age):\n",
    "    if ((age >= 13) and (age <= 19)):\n",
    "        return True\n",
    "    else:\n",
    "        return False\n",
    "\n",
    "print(is_teenager(14))\n",
    "print(is_teenager(40))"
   ]
  },
  {
   "cell_type": "markdown",
   "metadata": {},
   "source": [
    "Sometimes we may want perform several actions at once. Let's say we wanted to use our functions to do both an addition and a multiplication of some numbers. For example, we want to compute the value of $7 \\times (4 + 9)$ and store it into a variable `result`.\n",
    "\n",
    "One way to do this is like this:"
   ]
  },
  {
   "cell_type": "code",
   "execution_count": null,
   "metadata": {},
   "outputs": [],
   "source": [
    "def multiply_numbers(x, y):\n",
    "    return x * y\n",
    "\n",
    "temp   = add_numbers(4,9)\n",
    "result = multiply_numbers(7, temp)\n",
    "\n",
    "print(result)"
   ]
  },
  {
   "cell_type": "markdown",
   "metadata": {},
   "source": [
    "We can avoid using the `temp` variable by *nesting* the function calls:"
   ]
  },
  {
   "cell_type": "code",
   "execution_count": null,
   "metadata": {},
   "outputs": [],
   "source": [
    "result = multiply_numbers(7, add_numbers(4,9))\n",
    "print(result)"
   ]
  },
  {
   "cell_type": "markdown",
   "metadata": {},
   "source": [
    "Here we call the `add_numbers()` function where we would have a parameter for `multiply_numbers()`. The numbers 4 and 9 are added together **then** the resulting sum value is passed to `multiply_numbers`. Since `add_numbers()` returns a number (the sum of the numbers), it can be used in place of the `temp` variable. If this is confusing, you can use the first approach, but it is common to see nested function calls. \n",
    "\n"
   ]
  }
 ],
 "metadata": {
  "kernelspec": {
   "display_name": "Python 3",
   "language": "python",
   "name": "python3"
  },
  "language_info": {
   "codemirror_mode": {
    "name": "ipython",
    "version": 3
   },
   "file_extension": ".py",
   "mimetype": "text/x-python",
   "name": "python",
   "nbconvert_exporter": "python",
   "pygments_lexer": "ipython3",
   "version": "3.6.8"
  }
 },
 "nbformat": 4,
 "nbformat_minor": 2
}
